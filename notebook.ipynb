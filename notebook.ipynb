{
 "cells": [
  {
   "cell_type": "code",
   "execution_count": 1,
   "metadata": {},
   "outputs": [
    {
     "data": {
      "text/plain": [
       "Bot[token=8440107973:AAG1LsfnJeIIVKEqVU70Ayd2lMygL3rz5Oo]"
      ]
     },
     "execution_count": 1,
     "metadata": {},
     "output_type": "execute_result"
    }
   ],
   "source": [
    "import os\n",
    "from dotenv import load_dotenv\n",
    "from telegram import Bot\n",
    "\n",
    "# Локальный конфиг\n",
    "load_dotenv(\".env\", override=True)\n",
    "# Продакшн\n",
    "# load_dotenv(\".env.prod\", override=True)\n",
    "\n",
    "\n",
    "bot = Bot(token=os.environ[\"TELEGRAM_BOT_TOKEN\"])\n",
    "bot"
   ]
  },
  {
   "cell_type": "code",
   "execution_count": null,
   "metadata": {},
   "outputs": [
    {
     "data": {
      "text/plain": [
       "Message(channel_chat_created=False, chat=Chat(api_kwargs={'all_members_are_administrators': True, 'accepted_gift_types': {'unlimited_gifts': False, 'limited_gifts': False, 'unique_gifts': False, 'premium_subscription': False}}, id=-4826345531, title='тест гупсппм бот', type=<ChatType.GROUP>), date=datetime.datetime(2025, 10, 27, 15, 47, 47, tzinfo=datetime.timezone.utc), delete_chat_photo=False, entities=(MessageEntity(length=12, offset=17, type=<MessageEntityType.MENTION>), MessageEntity(length=8, offset=169, type=<MessageEntityType.MENTION>)), from_user=User(first_name='tizertestbot', id=8440107973, is_bot=True, username='tizertestbot'), group_chat_created=False, message_id=20, supergroup_chat_created=False, text='Всем привет! Бот @Test5448bot возобновляет работу!\\nДля работы запросите активацию, после сможете добавить свои районы для фильтрации заявок.\\n\\nЕсли будут вопросы, пишите @tizerof')"
      ]
     },
     "execution_count": 2,
     "metadata": {},
     "output_type": "execute_result"
    }
   ],
   "source": [
    "\n",
    "group_id = \"-4826345531\"\n",
    "text = \"\"\"Всем привет! Бот @Test5448bot возобновляет работу!\n",
    "Для работы запросите активацию, после сможете добавить свои районы для фильтрации заявок.\n",
    "\n",
    "Если будут вопросы, пишите @tizerof\n",
    "\"\"\"\n",
    "\n",
    "message = await bot.send_message(chat_id=group_id, text=text)\n",
    "message\n"
   ]
  },
  {
   "cell_type": "code",
   "execution_count": null,
   "metadata": {},
   "outputs": [],
   "source": [
    "from telegram import BotCommandScopeDefault\n",
    "await bot.get_my_commands(\n",
    "    # scope=BotCommandScopeDefault()\n",
    ")"
   ]
  }
 ],
 "metadata": {
  "kernelspec": {
   "display_name": "venv",
   "language": "python",
   "name": "python3"
  },
  "language_info": {
   "codemirror_mode": {
    "name": "ipython",
    "version": 3
   },
   "file_extension": ".py",
   "mimetype": "text/x-python",
   "name": "python",
   "nbconvert_exporter": "python",
   "pygments_lexer": "ipython3",
   "version": "3.13.5"
  }
 },
 "nbformat": 4,
 "nbformat_minor": 0
}
