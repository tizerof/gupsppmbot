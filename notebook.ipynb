{
 "cells": [
  {
   "cell_type": "code",
   "execution_count": 4,
   "metadata": {},
   "outputs": [
    {
     "data": {
      "text/plain": [
       "Message(channel_chat_created=False, chat=Chat(api_kwargs={'all_members_are_administrators': True, 'accepted_gift_types': {'unlimited_gifts': False, 'limited_gifts': False, 'unique_gifts': False, 'premium_subscription': False}}, id=-4826345531, title='тест гупсппм бот', type=<ChatType.GROUP>), date=datetime.datetime(2025, 10, 27, 13, 24, 15, tzinfo=datetime.timezone.utc), delete_chat_photo=False, entities=(MessageEntity(length=12, offset=74, type=<MessageEntityType.MENTION>),), from_user=User(first_name='Бот-Фильтр заявок АСУМО', id=400762164, is_bot=True, username='Test5448bot'), group_chat_created=False, message_id=6908, supergroup_chat_created=False, text='Бот возобновляет работу!\\nДобавляйте свои районы для фильтрации сообщений.\\n@Test5448bot')"
      ]
     },
     "execution_count": 4,
     "metadata": {},
     "output_type": "execute_result"
    }
   ],
   "source": [
    "from telegram import Bot\n",
    "from settings import settings\n",
    "\n",
    "group_id = \"-4826345531\"\n",
    "text = \"\"\"Бот возобновляет работу!\n",
    "Добавляйте свои районы для фильтрации сообщений.\n",
    "@Test5448bot\"\"\"\n",
    "\n",
    "bot = Bot(token=settings.TELEGRAM_BOT_TOKEN)\n",
    "message = await bot.send_message(chat_id=group_id, text=text)\n",
    "message\n"
   ]
  }
 ],
 "metadata": {
  "kernelspec": {
   "display_name": "venv",
   "language": "python",
   "name": "python3"
  },
  "language_info": {
   "codemirror_mode": {
    "name": "ipython",
    "version": 3
   },
   "file_extension": ".py",
   "mimetype": "text/x-python",
   "name": "python",
   "nbconvert_exporter": "python",
   "pygments_lexer": "ipython3",
   "version": "3.13.5"
  }
 },
 "nbformat": 4,
 "nbformat_minor": 0
}
